{
 "cells": [
  {
   "cell_type": "code",
   "execution_count": 1,
   "metadata": {},
   "outputs": [],
   "source": [
    "from pyTsetlinMachine.tm import MultiClassTsetlinMachine\n",
    "import numpy as np\n",
    "from time import time\n",
    "import pandas as pd\n",
    "import matplotlib.pyplot as plt\n",
    "import seaborn as sn\n",
    "\n",
    "from keras.datasets import mnist"
   ]
  },
  {
   "cell_type": "code",
   "execution_count": 1,
   "metadata": {},
   "outputs": [
    {
     "name": "stdout",
     "output_type": "stream",
     "text": [
      "\n",
      "Accuracy over 60 epochs:\n",
      "\n",
      "#1 Accuracy: 94.29% Training: 108.33s Testing: 5.82s\n",
      "#2 Accuracy: 95.50% Training: 84.12s Testing: 5.79s\n"
     ]
    },
    {
     "ename": "KeyboardInterrupt",
     "evalue": "",
     "output_type": "error",
     "traceback": [
      "\u001b[1;31m---------------------------------------------------------------------------\u001b[0m",
      "\u001b[1;31mKeyboardInterrupt\u001b[0m                         Traceback (most recent call last)",
      "\u001b[1;32m~\\AppData\\Local\\Temp/ipykernel_6600/1334420848.py\u001b[0m in \u001b[0;36m<module>\u001b[1;34m\u001b[0m\n\u001b[0;32m     16\u001b[0m \u001b[1;32mfor\u001b[0m \u001b[0mi\u001b[0m \u001b[1;32min\u001b[0m \u001b[0mrange\u001b[0m\u001b[1;33m(\u001b[0m\u001b[1;36m60\u001b[0m\u001b[1;33m)\u001b[0m\u001b[1;33m:\u001b[0m\u001b[1;33m\u001b[0m\u001b[1;33m\u001b[0m\u001b[0m\n\u001b[0;32m     17\u001b[0m         \u001b[0mstart_training\u001b[0m \u001b[1;33m=\u001b[0m \u001b[0mtime\u001b[0m\u001b[1;33m(\u001b[0m\u001b[1;33m)\u001b[0m\u001b[1;33m\u001b[0m\u001b[1;33m\u001b[0m\u001b[0m\n\u001b[1;32m---> 18\u001b[1;33m         \u001b[0mtm\u001b[0m\u001b[1;33m.\u001b[0m\u001b[0mfit\u001b[0m\u001b[1;33m(\u001b[0m\u001b[0mX_train\u001b[0m\u001b[1;33m,\u001b[0m \u001b[0mY_train\u001b[0m\u001b[1;33m)\u001b[0m\u001b[1;33m\u001b[0m\u001b[1;33m\u001b[0m\u001b[0m\n\u001b[0m\u001b[0;32m     19\u001b[0m         \u001b[0mstop_training\u001b[0m \u001b[1;33m=\u001b[0m \u001b[0mtime\u001b[0m\u001b[1;33m(\u001b[0m\u001b[1;33m)\u001b[0m\u001b[1;33m\u001b[0m\u001b[1;33m\u001b[0m\u001b[0m\n\u001b[0;32m     20\u001b[0m \u001b[1;33m\u001b[0m\u001b[0m\n",
      "\u001b[1;32mc:\\Users\\prajw\\AppData\\Local\\Programs\\Python\\Python39\\lib\\site-packages\\tmu\\models\\classification\\vanilla_classifier.py\u001b[0m in \u001b[0;36mfit\u001b[1;34m(self, X, Y, shuffle)\u001b[0m\n\u001b[0;32m    122\u001b[0m \u001b[1;33m\u001b[0m\u001b[0m\n\u001b[0;32m    123\u001b[0m             \u001b[1;32mif\u001b[0m \u001b[0mself\u001b[0m\u001b[1;33m.\u001b[0m\u001b[0mweighted_clauses\u001b[0m\u001b[1;33m:\u001b[0m\u001b[1;33m\u001b[0m\u001b[1;33m\u001b[0m\u001b[0m\n\u001b[1;32m--> 124\u001b[1;33m                 \u001b[0mself\u001b[0m\u001b[1;33m.\u001b[0m\u001b[0mweight_banks\u001b[0m\u001b[1;33m[\u001b[0m\u001b[0mtarget\u001b[0m\u001b[1;33m]\u001b[0m\u001b[1;33m.\u001b[0m\u001b[0mincrement\u001b[0m\u001b[1;33m(\u001b[0m\u001b[0mclause_outputs\u001b[0m\u001b[1;33m,\u001b[0m \u001b[0mupdate_p\u001b[0m\u001b[1;33m,\u001b[0m \u001b[0mclause_active\u001b[0m\u001b[1;33m[\u001b[0m\u001b[0mtarget\u001b[0m\u001b[1;33m]\u001b[0m\u001b[1;33m,\u001b[0m \u001b[1;32mFalse\u001b[0m\u001b[1;33m)\u001b[0m\u001b[1;33m\u001b[0m\u001b[1;33m\u001b[0m\u001b[0m\n\u001b[0m\u001b[0;32m    125\u001b[0m             self.clause_banks[target].type_i_feedback(update_p * self.type_i_p, self.s,\n\u001b[0;32m    126\u001b[0m                                                       \u001b[0mself\u001b[0m\u001b[1;33m.\u001b[0m\u001b[0mboost_true_positive_feedback\u001b[0m\u001b[1;33m,\u001b[0m \u001b[0mself\u001b[0m\u001b[1;33m.\u001b[0m\u001b[0mmax_included_literals\u001b[0m\u001b[1;33m,\u001b[0m\u001b[1;33m\u001b[0m\u001b[1;33m\u001b[0m\u001b[0m\n",
      "\u001b[1;32mc:\\Users\\prajw\\AppData\\Local\\Programs\\Python\\Python39\\lib\\site-packages\\tmu\\weight_bank.py\u001b[0m in \u001b[0;36mincrement\u001b[1;34m(self, clause_output, update_p, clause_active, positive_weights)\u001b[0m\n\u001b[0;32m     37\u001b[0m         \u001b[0mco_p\u001b[0m \u001b[1;33m=\u001b[0m \u001b[0mffi\u001b[0m\u001b[1;33m.\u001b[0m\u001b[0mcast\u001b[0m\u001b[1;33m(\u001b[0m\u001b[1;34m\"unsigned int *\"\u001b[0m\u001b[1;33m,\u001b[0m \u001b[0mclause_output\u001b[0m\u001b[1;33m.\u001b[0m\u001b[0mctypes\u001b[0m\u001b[1;33m.\u001b[0m\u001b[0mdata\u001b[0m\u001b[1;33m)\u001b[0m\u001b[1;33m\u001b[0m\u001b[1;33m\u001b[0m\u001b[0m\n\u001b[0;32m     38\u001b[0m         \u001b[0mca_p\u001b[0m \u001b[1;33m=\u001b[0m \u001b[0mffi\u001b[0m\u001b[1;33m.\u001b[0m\u001b[0mcast\u001b[0m\u001b[1;33m(\u001b[0m\u001b[1;34m\"unsigned int *\"\u001b[0m\u001b[1;33m,\u001b[0m \u001b[0mclause_active\u001b[0m\u001b[1;33m.\u001b[0m\u001b[0mctypes\u001b[0m\u001b[1;33m.\u001b[0m\u001b[0mdata\u001b[0m\u001b[1;33m)\u001b[0m\u001b[1;33m\u001b[0m\u001b[1;33m\u001b[0m\u001b[0m\n\u001b[1;32m---> 39\u001b[1;33m         \u001b[0mlib\u001b[0m\u001b[1;33m.\u001b[0m\u001b[0mwb_increment\u001b[0m\u001b[1;33m(\u001b[0m\u001b[0mself\u001b[0m\u001b[1;33m.\u001b[0m\u001b[0mcw_p\u001b[0m\u001b[1;33m,\u001b[0m \u001b[0mself\u001b[0m\u001b[1;33m.\u001b[0m\u001b[0mnumber_of_clauses\u001b[0m\u001b[1;33m,\u001b[0m \u001b[0mco_p\u001b[0m\u001b[1;33m,\u001b[0m \u001b[0mupdate_p\u001b[0m\u001b[1;33m,\u001b[0m \u001b[0mca_p\u001b[0m\u001b[1;33m,\u001b[0m \u001b[0mint\u001b[0m\u001b[1;33m(\u001b[0m\u001b[0mpositive_weights\u001b[0m\u001b[1;33m)\u001b[0m\u001b[1;33m)\u001b[0m\u001b[1;33m\u001b[0m\u001b[1;33m\u001b[0m\u001b[0m\n\u001b[0m\u001b[0;32m     40\u001b[0m \u001b[1;33m\u001b[0m\u001b[0m\n\u001b[0;32m     41\u001b[0m     \u001b[1;32mdef\u001b[0m \u001b[0mdecrement\u001b[0m\u001b[1;33m(\u001b[0m\u001b[0mself\u001b[0m\u001b[1;33m,\u001b[0m \u001b[0mclause_output\u001b[0m\u001b[1;33m,\u001b[0m \u001b[0mupdate_p\u001b[0m\u001b[1;33m,\u001b[0m \u001b[0mclause_active\u001b[0m\u001b[1;33m,\u001b[0m \u001b[0mnegative_weights\u001b[0m\u001b[1;33m)\u001b[0m\u001b[1;33m:\u001b[0m\u001b[1;33m\u001b[0m\u001b[1;33m\u001b[0m\u001b[0m\n",
      "\u001b[1;31mKeyboardInterrupt\u001b[0m: "
     ]
    }
   ],
   "source": [
    "import numpy as np\n",
    "from time import time\n",
    "\n",
    "from keras.datasets import mnist\n",
    "\n",
    "from tmu.models.classification.vanilla_classifier import TMClassifier\n",
    "\n",
    "(X_train, Y_train), (X_test, Y_test) = mnist.load_data()\n",
    "\n",
    "X_train = np.where(X_train.reshape((X_train.shape[0], 28*28)) > 75, 1, 0)\n",
    "X_test = np.where(X_test.reshape((X_test.shape[0], 28*28)) > 75, 1, 0)\n",
    "\n",
    "tm = TMClassifier(200, 5000, 10.0, max_included_literals=32, platform='CPU', weighted_clauses=True)\n",
    "\n",
    "print(\"\\nAccuracy over 10 epochs:\\n\")\n",
    "for i in range(60):\n",
    "        start_training = time()\n",
    "        tm.fit(X_train, Y_train)\n",
    "        stop_training = time()\n",
    "\n",
    "        start_testing = time()\n",
    "        result = 100*(tm.predict(X_test) == Y_test).mean()\n",
    "        stop_testing = time()\n",
    "\n",
    "        print(\"#%d Accuracy: %.2f%% Training: %.2fs Testing: %.2fs\" % (i+1, result, stop_training-start_training, stop_testing-start_testing))"
   ]
  },
  {
   "cell_type": "code",
   "execution_count": 4,
   "metadata": {},
   "outputs": [],
   "source": [
    "\n",
    "(X_train, Y_train), (X_test, Y_test) = mnist.load_data()\n",
    "\n",
    "X_train = np.where(X_train.reshape((X_train.shape[0], 28*28)) > 75, 1, 0)\n",
    "X_test = np.where(X_test.reshape((X_test.shape[0], 28*28)) > 75, 1, 0)\n",
    "\n",
    "tm = MultiClassTsetlinMachine(400, 50, 10.0)\n",
    "ctm= MultiClassConvolutionalTsetlinMachine2D(400,50,10.0,(3, 3))\n"
   ]
  },
  {
   "cell_type": "code",
   "execution_count": 60,
   "metadata": {},
   "outputs": [],
   "source": [
    "\n",
    "clause_wise_includes_temp=np.zeros(400,dtype=int)\n",
    "class_wise_includes=np.zeros(10,dtype=int)\n",
    "clause_wise_includes=[[0]*400]*10\n",
    "\n",
    "test=np.zeros(1568)\n",
    "\n",
    "tm.fit(X_train, Y_train, epochs=10)\n",
    "ctm.fit(X_train, Y_train, epochs=5000)\n",
    "\n",
    "for k in range(10):\n",
    "    for j in range(400):\n",
    "        for i in range(1568):\n",
    "            test[i]=tm.ta_action(k,j,i)\n",
    "        clause_wise_includes_temp[j]=test.sum()\n",
    "    class_wise_includes[k]=clause_wise_includes_temp.sum()\n",
    "    clause_wise_includes[k]=clause_wise_includes_temp\n",
    "    \n"
   ]
  },
  {
   "cell_type": "code",
   "execution_count": 61,
   "metadata": {},
   "outputs": [
    {
     "name": "stdout",
     "output_type": "stream",
     "text": [
      "The total percentage includes: 4.806074617346939\n"
     ]
    }
   ],
   "source": [
    "\n",
    "print(\"The total percentage includes:\", ((class_wise_includes.sum()/(10*400*1568))*100))"
   ]
  },
  {
   "cell_type": "code",
   "execution_count": 62,
   "metadata": {},
   "outputs": [
    {
     "data": {
      "text/plain": [
       "([<matplotlib.axis.XTick at 0x1be09813490>,\n",
       "  <matplotlib.axis.XTick at 0x1be09813460>,\n",
       "  <matplotlib.axis.XTick at 0x1be09810220>,\n",
       "  <matplotlib.axis.XTick at 0x1be09662f10>,\n",
       "  <matplotlib.axis.XTick at 0x1be096706a0>,\n",
       "  <matplotlib.axis.XTick at 0x1be09662ee0>,\n",
       "  <matplotlib.axis.XTick at 0x1be09670250>,\n",
       "  <matplotlib.axis.XTick at 0x1be09676610>,\n",
       "  <matplotlib.axis.XTick at 0x1be09676d60>,\n",
       "  <matplotlib.axis.XTick at 0x1be0967c4f0>],\n",
       " [Text(0, 0, ''),\n",
       "  Text(0, 0, ''),\n",
       "  Text(0, 0, ''),\n",
       "  Text(0, 0, ''),\n",
       "  Text(0, 0, ''),\n",
       "  Text(0, 0, ''),\n",
       "  Text(0, 0, ''),\n",
       "  Text(0, 0, ''),\n",
       "  Text(0, 0, ''),\n",
       "  Text(0, 0, '')])"
      ]
     },
     "execution_count": 62,
     "metadata": {},
     "output_type": "execute_result"
    },
    {
     "data": {
      "image/png": "[encoded data removed]",
      "text/plain": [
       "<Figure size 720x576 with 1 Axes>"
      ]
     },
     "metadata": {
      "needs_background": "light"
     },
     "output_type": "display_data"
    }
   ],
   "source": [
    "plt.figure(figsize=(10,8))\n",
    "plt.plot((class_wise_includes)*100/(400*1568))\n",
    "plt.title('Percentage Includes For Each Class')\n",
    "plt.xticks(np.arange(0, 10, 1))\n",
    " "
   ]
  },
  {
   "cell_type": "code",
   "execution_count": 3,
   "metadata": {},
   "outputs": [
    {
     "name": "stdout",
     "output_type": "stream",
     "text": [
      "\n",
      "Accuracy over 10 epochs:\n",
      "\n",
      "#1 Accuracy: 91.78% Training: 19.86s Testing: 2.04s\n",
      " Total Include Percentage: 4.7106664540816325\n",
      "#2 Accuracy: 92.66% Training: 13.73s Testing: 2.01s\n",
      " Total Include Percentage: 6.2568718112244905\n",
      "#3 Accuracy: 93.13% Training: 13.30s Testing: 2.18s\n",
      " Total Include Percentage: 7.246619897959183\n",
      "#4 Accuracy: 93.39% Training: 13.36s Testing: 2.26s\n",
      " Total Include Percentage: 8.033482142857142\n",
      "#5 Accuracy: 93.27% Training: 12.01s Testing: 2.01s\n",
      " Total Include Percentage: 8.606042729591836\n",
      "#6 Accuracy: 93.77% Training: 11.75s Testing: 1.99s\n",
      " Total Include Percentage: 9.16329719387755\n",
      "#7 Accuracy: 93.61% Training: 11.51s Testing: 1.93s\n",
      " Total Include Percentage: 9.611304209183674\n",
      "#8 Accuracy: 93.54% Training: 11.40s Testing: 1.96s\n",
      " Total Include Percentage: 10.149649234693877\n",
      "#9 Accuracy: 93.49% Training: 11.43s Testing: 1.96s\n",
      " Total Include Percentage: 10.59233099489796\n",
      "#10 Accuracy: 93.31% Training: 11.22s Testing: 1.95s\n",
      " Total Include Percentage: 10.978093112244897\n"
     ]
    }
   ],
   "source": [
    "from pyTsetlinMachine.tm import MultiClassTsetlinMachine\n",
    "import numpy as np\n",
    "from time import time\n",
    "\n",
    "from keras.datasets import mnist\n",
    "\n",
    "(X_train, Y_train), (X_test, Y_test) = mnist.load_data()\n",
    "\n",
    "X_train = np.where(X_train.reshape((X_train.shape[0], 28*28)) > 75, 1, 0) \n",
    "X_test = np.where(X_test.reshape((X_test.shape[0], 28*28)) > 75, 1, 0) \n",
    "\n",
    "tm = MultiClassTsetlinMachine(400, 50, 10.0)\n",
    "\n",
    "print(\"\\nAccuracy over 10 epochs:\\n\")\n",
    "for i in range(10):\n",
    "\tstart_training = time()\n",
    "\ttm.fit(X_train, Y_train, epochs=1, incremental=True)\n",
    "\tstop_training = time()\n",
    "\n",
    "\tstart_testing = time()\n",
    "\tresult = 100*(tm.predict(X_test) == Y_test).mean()\n",
    "\tstop_testing = time()\n",
    "\n",
    "\tprint(\"#%d Accuracy: %.2f%% Training: %.2fs Testing: %.2fs\" % (i+1, result, stop_training-start_training, stop_testing-start_testing))\n",
    "    \n",
    "\tclause_wise_includes_temp=np.zeros(400,dtype=int)\n",
    "\n",
    "\tclass_wise_includes=np.zeros(10,dtype=int)\n",
    "\tclause_wise_includes=[[0]*400]*10\n",
    "\n",
    "\ttest=np.zeros(1568)\n",
    "\n",
    "\tfor k in range(10):\n",
    "\t\tfor j in range(400):\n",
    "\t\t\tfor n in range(1568):\n",
    "\t\t\t\ttest[n]=tm.ta_action(k,j,n)\n",
    "\t\t\tclause_wise_includes_temp[j]=test.sum()\n",
    "\t\tclass_wise_includes[k]=clause_wise_includes_temp.sum()\n",
    "\t\tclause_wise_includes[k]=clause_wise_includes_temp\n",
    "    \n",
    "\tprint(\" Total Include Percentage:\", ((class_wise_includes.sum()/(10*400*1568))*100))\n",
    "    "
   ]
  },
  {
   "cell_type": "code",
   "execution_count": 7,
   "metadata": {},
   "outputs": [
    {
     "ename": "ValueError",
     "evalue": "cannot reshape array of size 46980000 into shape (60000,28,28)",
     "output_type": "error",
     "traceback": [
      "\u001b[1;31m---------------------------------------------------------------------------\u001b[0m",
      "\u001b[1;31mValueError\u001b[0m                                Traceback (most recent call last)",
      "\u001b[1;32m~\\AppData\\Local\\Temp/ipykernel_15988/2542199489.py\u001b[0m in \u001b[0;36m<module>\u001b[1;34m\u001b[0m\n\u001b[0;32m     12\u001b[0m \u001b[1;33m\u001b[0m\u001b[0m\n\u001b[0;32m     13\u001b[0m \u001b[1;31m#2D conversion\u001b[0m\u001b[1;33m\u001b[0m\u001b[1;33m\u001b[0m\u001b[1;33m\u001b[0m\u001b[0m\n\u001b[1;32m---> 14\u001b[1;33m \u001b[0mX_train\u001b[0m \u001b[1;33m=\u001b[0m \u001b[0mX_train\u001b[0m\u001b[1;33m[\u001b[0m\u001b[1;33m:\u001b[0m\u001b[1;33m,\u001b[0m\u001b[1;36m0\u001b[0m\u001b[1;33m:\u001b[0m\u001b[1;33m-\u001b[0m\u001b[1;36m1\u001b[0m\u001b[1;33m]\u001b[0m\u001b[1;33m.\u001b[0m\u001b[0mreshape\u001b[0m\u001b[1;33m(\u001b[0m\u001b[0mX_train\u001b[0m\u001b[1;33m.\u001b[0m\u001b[0mshape\u001b[0m\u001b[1;33m[\u001b[0m\u001b[1;36m0\u001b[0m\u001b[1;33m]\u001b[0m\u001b[1;33m,\u001b[0m \u001b[1;36m28\u001b[0m\u001b[1;33m,\u001b[0m \u001b[1;36m28\u001b[0m\u001b[1;33m)\u001b[0m\u001b[1;33m\u001b[0m\u001b[1;33m\u001b[0m\u001b[0m\n\u001b[0m\u001b[0;32m     15\u001b[0m \u001b[0mY_train\u001b[0m \u001b[1;33m=\u001b[0m \u001b[0mY_train\u001b[0m\u001b[1;33m[\u001b[0m\u001b[1;33m:\u001b[0m\u001b[1;33m,\u001b[0m\u001b[1;33m-\u001b[0m\u001b[1;36m1\u001b[0m\u001b[1;33m]\u001b[0m\u001b[1;33m\u001b[0m\u001b[1;33m\u001b[0m\u001b[0m\n\u001b[0;32m     16\u001b[0m \u001b[1;33m\u001b[0m\u001b[0m\n",
      "\u001b[1;31mValueError\u001b[0m: cannot reshape array of size 46980000 into shape (60000,28,28)"
     ]
    }
   ],
   "source": [
    "from pyTsetlinMachine.tm import MultiClassConvolutionalTsetlinMachine2D\n",
    "import numpy as np\n",
    "from time import time\n",
    "\n",
    "from keras.datasets import mnist\n",
    "\n",
    "(X_train, Y_train), (X_test, Y_test) = mnist.load_data()\n",
    "\n",
    "#booleanization\n",
    "X_train = np.where(X_train.reshape((X_train.shape[0], 28*28)) > 75, 1, 0) \n",
    "X_test = np.where(X_test.reshape((X_test.shape[0], 28*28)) > 75, 1, 0) \n",
    "\n",
    "#2D conversion\n",
    "X_train = X_train[:,0:-1].reshape(X_train.shape[0], 28, 28)\n",
    "Y_train = Y_train[:,-1]\n",
    "\n",
    "\n",
    "X_test = X_test[:,0:-1].reshape(X_test.shape[0], 28, 28)\n",
    "Y_test = Y_test[:,-1]\n",
    "\n",
    "\n",
    "\n",
    "ctm= MultiClassConvolutionalTsetlinMachine2D(400,50,10.0,(3, 3))\n",
    "\n",
    "print(\"\\nAccuracy over 10 epochs:\\n\")\n",
    "for i in range(10):\n",
    "\tstart_training = time()\n",
    "\tctm.fit(X_train, Y_train, epochs=1, incremental=True)\n",
    "\tstop_training = time()\n",
    "\n",
    "\tstart_testing = time()\n",
    "\tresult = 100*(ctm.predict(X_test) == Y_test).mean()\n",
    "\tstop_testing = time()\n",
    "\n",
    "\tprint(\"#%d Accuracy: %.2f%% Training: %.2fs Testing: %.2fs\" % (i+1, result, stop_training-start_training, stop_testing-start_testing))\n",
    "    \n",
    "\tclause_wise_includes_temp=np.zeros(400,dtype=int)\n",
    "\n",
    "\tclass_wise_includes=np.zeros(10,dtype=int)\n",
    "\tclause_wise_includes=[[0]*400]*10\n",
    "\n",
    "\ttest=np.zeros(1568)\n",
    "\n",
    "\tfor k in range(10):\n",
    "\t\tfor j in range(400):\n",
    "\t\t\tfor n in range(1568):\n",
    "\t\t\t\ttest[n]=ctm.ta_action(k,j,n)\n",
    "\t\t\tclause_wise_includes_temp[j]=test.sum()\n",
    "\t\tclass_wise_includes[k]=clause_wise_includes_temp.sum()\n",
    "\t\tclause_wise_includes[k]=clause_wise_includes_temp\n",
    "    \n",
    "\tprint(\" Total Include Percentage:\", ((class_wise_includes.sum()/(10*400*1568))*100))\n",
    "    "
   ]
  }
 ],
 "metadata": {
  "kernelspec": {
   "display_name": "Python 3.9.6 64-bit",
   "language": "python",
   "name": "python3"
  },
  "language_info": {
   "codemirror_mode": {
    "name": "ipython",
    "version": 3
   },
   "file_extension": ".py",
   "mimetype": "text/x-python",
   "name": "python",
   "nbconvert_exporter": "python",
   "pygments_lexer": "ipython3",
   "version": "3.9.6"
  },
  "orig_nbformat": 4,
  "vscode": {
   "interpreter": {
    "hash": "8e6242bf52b34b22295384af64a744ffe82eb55419bcd85f81946f4879f02295"
   }
  }
 },
 "nbformat": 4,
 "nbformat_minor": 2
}
