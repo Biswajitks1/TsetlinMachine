{
 "cells": [
  {
   "cell_type": "code",
   "execution_count": 8,
   "metadata": {},
   "outputs": [
    {
     "name": "stdout",
     "output_type": "stream",
     "text": [
      "\n",
      "Accuracy over 30 epochs:\n",
      "\n",
      "#1 Accuracy: 93.68% Training: 24.38s Testing: 3.20s\n",
      " Total Includes: 92979\n",
      "#2 Accuracy: 94.93% Training: 16.94s Testing: 5.46s\n",
      " Total Includes: 108514\n",
      "#3 Accuracy: 95.23% Training: 14.31s Testing: 3.10s\n",
      " Total Includes: 119293\n",
      "#4 Accuracy: 95.58% Training: 13.37s Testing: 3.14s\n",
      " Total Includes: 124335\n",
      "#5 Accuracy: 95.87% Training: 13.02s Testing: 3.26s\n",
      " Total Includes: 133758\n",
      "#6 Accuracy: 96.19% Training: 12.40s Testing: 3.14s\n",
      " Total Includes: 138700\n",
      "#7 Accuracy: 96.24% Training: 11.98s Testing: 3.39s\n",
      " Total Includes: 144054\n",
      "#8 Accuracy: 96.19% Training: 11.56s Testing: 3.74s\n",
      " Total Includes: 150930\n",
      "#9 Accuracy: 96.49% Training: 11.36s Testing: 3.03s\n",
      " Total Includes: 153566\n",
      "#10 Accuracy: 96.55% Training: 11.12s Testing: 3.10s\n",
      " Total Includes: 154542\n",
      "#11 Accuracy: 96.56% Training: 10.78s Testing: 3.06s\n",
      " Total Includes: 159140\n",
      "#12 Accuracy: 96.75% Training: 10.56s Testing: 3.06s\n",
      " Total Includes: 161644\n",
      "#13 Accuracy: 96.63% Training: 10.43s Testing: 2.99s\n",
      " Total Includes: 167307\n",
      "#14 Accuracy: 96.66% Training: 10.43s Testing: 3.01s\n",
      " Total Includes: 167995\n",
      "#15 Accuracy: 96.81% Training: 10.11s Testing: 3.03s\n",
      " Total Includes: 171672\n",
      "#16 Accuracy: 96.74% Training: 10.09s Testing: 3.05s\n",
      " Total Includes: 176764\n",
      "#17 Accuracy: 96.89% Training: 10.05s Testing: 3.00s\n",
      " Total Includes: 182168\n",
      "#18 Accuracy: 96.82% Training: 9.97s Testing: 3.11s\n",
      " Total Includes: 184675\n",
      "#19 Accuracy: 96.75% Training: 9.79s Testing: 3.03s\n",
      " Total Includes: 186487\n",
      "#20 Accuracy: 96.83% Training: 9.70s Testing: 3.01s\n",
      " Total Includes: 187403\n"
     ]
    },
    {
     "data": {
      "text/plain": [
       "[<matplotlib.lines.Line2D at 0x257091c7070>]"
      ]
     },
     "execution_count": 8,
     "metadata": {},
     "output_type": "execute_result"
    },
    {
     "data": {
      "image/png": "[encoded data removed]",
      "text/plain": [
       "<Figure size 432x288 with 1 Axes>"
      ]
     },
     "metadata": {
      "needs_background": "light"
     },
     "output_type": "display_data"
    }
   ],
   "source": [
    "# FOR THE MAXIMUM POSSIBLE CLAUSES NUMBER 329 ON THE MCTM\n",
    "import matplotlib.pyplot as plt\n",
    "from pyTsetlinMachine.tm import MultiClassTsetlinMachine\n",
    "import numpy as np\n",
    "from time import time\n",
    "import matplotlib.pyplot as plt\n",
    "from keras.datasets import mnist\n",
    "\n",
    "(X_train, Y_train), (X_test, Y_test) = mnist.load_data()\n",
    "\n",
    "X_train = np.where(X_train.reshape((X_train.shape[0], 28*28)) > 75, 1, 0)\n",
    "X_test = np.where(X_test.reshape((X_test.shape[0], 28*28)) > 75, 1, 0)\n",
    "\n",
    "clauses=1000\n",
    "s=7.5\n",
    "T=20\n",
    "epochs=20\n",
    "\n",
    "tm = MultiClassTsetlinMachine(clauses, T, s)\n",
    "acc = np.zeros(epochs, dtype=int)\n",
    "epoch = np.zeros(epochs, dtype=int)\n",
    "\n",
    "print(\"\\nAccuracy over 30 epochs:\\n\")\n",
    "for i in range(epochs):\n",
    "    start_training = time()\n",
    "    tm.fit(X_train, Y_train, epochs=1, incremental=True)\n",
    "    stop_training = time()\n",
    "\n",
    "    start_testing = time()\n",
    "    result = 100*(tm.predict(X_test) == Y_test).mean()\n",
    "    stop_testing = time()\n",
    "\n",
    "    print(\"#%d Accuracy: %.2f%% Training: %.2fs Testing: %.2fs\" %\n",
    "          (i+1, result, stop_training-start_training, stop_testing-start_testing))\n",
    "    acc[i] = result\n",
    "    epoch[i] = i+1\n",
    "\n",
    "    clause_wise_includes_temp = np.zeros(clauses, dtype=int)\n",
    "\n",
    "    class_wise_includes = np.zeros(10, dtype=int)\n",
    "    clause_wise_includes = [[0]*clauses]*10\n",
    "\n",
    "    test = np.zeros(1568)\n",
    "\n",
    "    for k in range(10):\n",
    "        for j in range(clauses):\n",
    "            for n in range(1568):\n",
    "                test[n] = tm.ta_action(k, j, n)\n",
    "            clause_wise_includes_temp[j] = test.sum()\n",
    "        class_wise_includes[k] = clause_wise_includes_temp.sum()\n",
    "        clause_wise_includes[k] = clause_wise_includes_temp\n",
    "\n",
    "    print(\" Total Includes:\",\n",
    "          ((class_wise_includes.sum())))\n",
    "\n",
    "\n",
    "plt.plot(epoch, acc)\n"
   ]
  }
 ],
 "metadata": {
  "kernelspec": {
   "display_name": "Python 3",
   "language": "python",
   "name": "python3"
  },
  "language_info": {
   "codemirror_mode": {
    "name": "ipython",
    "version": 3
   },
   "file_extension": ".py",
   "mimetype": "text/x-python",
   "name": "python",
   "nbconvert_exporter": "python",
   "pygments_lexer": "ipython3",
   "version": "3.9.6"
  },
  "orig_nbformat": 4
 },
 "nbformat": 4,
 "nbformat_minor": 2
}
