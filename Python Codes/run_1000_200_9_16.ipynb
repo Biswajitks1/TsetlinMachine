
Accuracy over 40 epochs:

#1 Accuracy: 93.95% Training: 32.45s Testing: 3.12s
Total Includes: 51967 

#2 Accuracy: 95.28% Training: 25.95s Testing: 3.08s
Total Includes: 48008 

#3 Accuracy: 95.38% Training: 24.65s Testing: 3.08s
Total Includes: 45678 

#4 Accuracy: 95.45% Training: 24.14s Testing: 3.13s
Total Includes: 44700 

#5 Accuracy: 95.95% Training: 23.76s Testing: 3.10s
Total Includes: 44058 

#6 Accuracy: 96.13% Training: 23.35s Testing: 3.06s
Total Includes: 43130 

#7 Accuracy: 96.39% Training: 23.03s Testing: 3.08s
Total Includes: 42631 

#8 Accuracy: 96.51% Training: 22.91s Testing: 3.06s
Total Includes: 42048 

#9 Accuracy: 96.27% Training: 22.86s Testing: 3.04s
Total Includes: 41598 

#10 Accuracy: 96.60% Training: 22.68s Testing: 3.36s
Total Includes: 41051 

#11 Accuracy: 96.35% Training: 22.51s Testing: 3.05s
Total Includes: 41060 

#12 Accuracy: 96.71% Training: 20.69s Testing: 2.87s
Total Includes: 40704 

#13 Accuracy: 96.53% Training: 20.27s Testing: 2.84s
Total Includes: 40204 

#14 Accuracy: 96.72% Training: 20.02s Testing: 2.95s
Total Includes: 40234 

#15 Accuracy: 96.57% Training: 20.04s Testing: 2.88s
Total Includes: 39835 

#16 Accuracy: 96.62% Training: 20.12s Testing: 3.07s
Total Includes: 39473 

#17 Accuracy: 96.87% Training: 19.94s Testing: 2.85s
Total Includes: 39478 

#18 Accuracy: 96.81% Training: 19.85s Testing: 2.97s
Total Includes: 39209 

#19 Accuracy: 96.60% Training: 19.75s Testing: 2.90s
Total Includes: 38880 

#20 Accuracy: 96.66% Training: 19.64s Testing: 2.89s
Total Includes: 38842 

#21 Accuracy: 96.88% Training: 19.62s Testing: 2.91s
Total Includes: 38311 

#22 Accuracy: 97.11% Training: 19.74s Testing: 2.93s
Total Includes: 38034 

#23 Accuracy: 96.83% Training: 19.48s Testing: 2.96s
Total Includes: 37905 

#24 Accuracy: 96.92% Training: 19.61s Testing: 2.90s
Total Includes: 38016 

#25 Accuracy: 96.84% Training: 19.46s Testing: 2.89s
Total Includes: 37955 

#26 Accuracy: 96.86% Training: 19.60s Testing: 2.87s
Total Includes: 37823 

#27 Accuracy: 97.03% Training: 20.49s Testing: 3.20s
Total Includes: 37710 

#28 Accuracy: 96.95% Training: 22.11s Testing: 3.05s
Total Includes: 37653 

#29 Accuracy: 96.90% Training: 21.09s Testing: 3.04s
Total Includes: 37443 

#30 Accuracy: 96.79% Training: 20.94s Testing: 3.02s
Total Includes: 37457 

#31 Accuracy: 97.05% Training: 20.77s Testing: 3.09s
Total Includes: 37368 

#32 Accuracy: 97.07% Training: 20.92s Testing: 3.02s
Total Includes: 37198 

#33 Accuracy: 96.93% Training: 20.76s Testing: 3.03s
Total Includes: 37362 

#34 Accuracy: 97.06% Training: 20.81s Testing: 3.06s
Total Includes: 37256 

#35 Accuracy: 97.07% Training: 20.89s Testing: 3.05s
Total Includes: 36977 

#36 Accuracy: 97.00% Training: 20.72s Testing: 3.03s
Total Includes: 37066 

#37 Accuracy: 97.28% Training: 21.09s Testing: 3.26s
Total Includes: 36943 

#38 Accuracy: 97.10% Training: 23.72s Testing: 3.78s
Total Includes: 36583 

#39 Accuracy: 97.06% Training: 23.46s Testing: 3.71s
Total Includes: 36484 

#40 Accuracy: 97.23% Training: 22.64s Testing: 3.57s
Total Includes: 36440 

